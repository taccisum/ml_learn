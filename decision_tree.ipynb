{
 "cells": [
  {
   "cell_type": "code",
   "execution_count": 80,
   "id": "61e57324",
   "metadata": {},
   "outputs": [],
   "source": [
    "from numpy import *\n",
    "import operator"
   ]
  },
  {
   "cell_type": "markdown",
   "id": "e5b7179c",
   "metadata": {},
   "source": [
    "## 香农信息熵公式\n",
    "\n",
    "$H(x)=-\\sum_{i=1}^n{p_ilog_2{p_i}}$\n",
    "\n",
    "其中 $p_i$ 为某一事件出现的概率，对数 $-log_2{p_i}$ 即是该事件的信息量（概率越小信息量越大，且非负；以 $2$ 为底是因为信息在计算机中由二进制表示）。\n",
    "\n",
    "显然，$H(x)$ 即为一随机给定的数据中包含的信息量的期望值"
   ]
  },
  {
   "cell_type": "code",
   "execution_count": 72,
   "id": "8fd22584",
   "metadata": {},
   "outputs": [],
   "source": [
    "def entropy(dset, idx):\n",
    "    total = len(dset)\n",
    "    labels = array(dset)[:, idx]\n",
    "    count = {}\n",
    "    for label in labels:\n",
    "        count[label] = count.get(label, 0) + 1\n",
    "    # 计算每一个 label 出现的概率\n",
    "    p = array(list(count.values())) / total\n",
    "    \n",
    "#     print(total, count, p)\n",
    "    # 香农公式计算信息熵    \n",
    "    shannonEnt = sum(p*-log2(p))\n",
    "    return shannonEnt"
   ]
  },
  {
   "cell_type": "code",
   "execution_count": 3,
   "id": "7f42ddd4",
   "metadata": {},
   "outputs": [
    {
     "name": "stdout",
     "output_type": "stream",
     "text": [
      "9 {'a': 3, 'b': 1, 'c': 2, 'd': 3} [0.33333333 0.11111111 0.22222222 0.33333333]\n"
     ]
    },
    {
     "data": {
      "text/plain": [
       "1.8910611120726526"
      ]
     },
     "execution_count": 3,
     "metadata": {},
     "output_type": "execute_result"
    }
   ],
   "source": [
    "entropy([\n",
    "    [1,2,3,'a'],\n",
    "    [1,2,3,'b'],\n",
    "    [1,2,3,'c'],\n",
    "    [1,2,3,'d'],\n",
    "    [1,2,3,'a'],\n",
    "    [1,2,3,'a'],\n",
    "    [1,2,3,'c'],\n",
    "    [1,2,3,'d'],\n",
    "    [1,2,3,'d'],\n",
    "], -1)"
   ]
  },
  {
   "cell_type": "markdown",
   "id": "7b72548d",
   "metadata": {},
   "source": [
    "## 特征选取"
   ]
  },
  {
   "cell_type": "code",
   "execution_count": 25,
   "id": "765a91ff",
   "metadata": {},
   "outputs": [],
   "source": [
    "def group(dset, idx):\n",
    "    feat = array(dset)[:, idx]\n",
    "    feat_set = set(feat)\n",
    "    groups = {}\n",
    "    for row in dset:\n",
    "        group = groups.get(row[idx], None)\n",
    "        if group is None:\n",
    "            group = []\n",
    "            groups[row[idx]] = group\n",
    "        group.append(row)\n",
    "    return groups"
   ]
  },
  {
   "cell_type": "code",
   "execution_count": 88,
   "id": "732e014d",
   "metadata": {},
   "outputs": [],
   "source": [
    "sub = group([\n",
    "    [1,2,'yes'],\n",
    "    [2,1,'no'],\n",
    "    [1,1,'yes'],\n",
    "    [2,2,'no']\n",
    "], 2)"
   ]
  },
  {
   "cell_type": "code",
   "execution_count": 42,
   "id": "a8f85d77",
   "metadata": {},
   "outputs": [],
   "source": [
    "sub = group([\n",
    "    [1,2,1,'a'],\n",
    "    [1,2,2,'b'],\n",
    "    [1,2,3,'c'],\n",
    "    [1,2,4,'d'],\n",
    "    [1,2,1,'a'],\n",
    "    [1,2,2,'a'],\n",
    "    [1,2,3,'c'],\n",
    "    [1,2,4,'d'],\n",
    "    [1,2,4,'d'],\n",
    "], 2)"
   ]
  },
  {
   "cell_type": "code",
   "execution_count": 89,
   "id": "a7c2ec7e",
   "metadata": {},
   "outputs": [
    {
     "data": {
      "text/plain": [
       "{'yes': [[1, 2, 'yes'], [1, 1, 'yes']], 'no': [[2, 1, 'no'], [2, 2, 'no']]}"
      ]
     },
     "execution_count": 89,
     "metadata": {},
     "output_type": "execute_result"
    }
   ],
   "source": [
    "sub"
   ]
  },
  {
   "cell_type": "code",
   "execution_count": 56,
   "id": "f3aa35ba",
   "metadata": {},
   "outputs": [
    {
     "data": {
      "text/plain": [
       "[[[1, 2, 1, 'a'], [1, 2, 1, 'a']],\n",
       " [[1, 2, 2, 'b'], [1, 2, 2, 'a']],\n",
       " [[1, 2, 3, 'c'], [1, 2, 3, 'c']],\n",
       " [[1, 2, 4, 'd'], [1, 2, 4, 'd'], [1, 2, 4, 'd']]]"
      ]
     },
     "execution_count": 56,
     "metadata": {},
     "output_type": "execute_result"
    }
   ],
   "source": [
    "list(sub.values())"
   ]
  },
  {
   "cell_type": "code",
   "execution_count": 45,
   "id": "e85d4062",
   "metadata": {},
   "outputs": [
    {
     "name": "stdout",
     "output_type": "stream",
     "text": [
      "2 {'a': 2} [1.]\n",
      "0.0\n",
      "2 {'b': 1, 'a': 1} [0.5 0.5]\n",
      "1.0\n",
      "2 {'c': 2} [1.]\n",
      "0.0\n",
      "3 {'d': 3} [1.]\n",
      "0.0\n"
     ]
    }
   ],
   "source": [
    "for sub_dset in sub.values():\n",
    "    print(entropy(sub_dset, -1))"
   ]
  },
  {
   "cell_type": "markdown",
   "id": "9822d099",
   "metadata": {},
   "source": [
    "## 选取最优特征\n",
    "\n",
    "遍历数据集 $dset$ 的每个特征，按特征值对数据集进行分组，并分别计算这些子集的信息熵 $subent_i$，每个子集出现的概率 $p_i=\\frac {count(subset)} {count(dset)}$\n",
    "\n",
    "若原数据集的信息熵为 $ent$，则有信息增益 $gain= ent- newent=ent-\\sum {p_i}{subent_i}\\$\n",
    "\n",
    "信息增益越高，意味着经过此次划分后剩余的信息熵越小（即混乱程度越小，答案越容易确认），所以这种划分方式相对也就越好"
   ]
  },
  {
   "cell_type": "code",
   "execution_count": 85,
   "id": "64652623",
   "metadata": {},
   "outputs": [],
   "source": [
    "def choose_feature(dset):\n",
    "    # 特征数量\n",
    "    total = len(dset)\n",
    "    ent = entropy(dset, -1)\n",
    "    features_count = len(dset[0]) - 1\n",
    "    print('origin entropy: %.4f, feature count: %d' % (ent, features_count))\n",
    "    \n",
    "    if features_count <= 0:\n",
    "        pass\n",
    "\n",
    "    gains = {}\n",
    "    for i in range(features_count):\n",
    "        splited_ents = []\n",
    "        sub_sets = group(dset, i)\n",
    "        for sub_set in sub_sets.values():\n",
    "            splited_ents.append(entropy(sub_set, -1))\n",
    "        p = array(list(map(lambda s: len(s), sub_sets.values()))) / total\n",
    "        new_ent = sum(p*splited_ents)\n",
    "        gain = ent - new_ent\n",
    "        gains[i] = gain\n",
    "        print('if choose column index %d as feautre, new entropy is: %.4f. gain is: %.4f' % (i, new_ent, gain))\n",
    "    return sorted(gains.items(), key=operator.itemgetter(1), reverse=True)[0]  # 根据增益由大到小排列"
   ]
  },
  {
   "cell_type": "code",
   "execution_count": 87,
   "id": "3d464a55",
   "metadata": {},
   "outputs": [
    {
     "name": "stdout",
     "output_type": "stream",
     "text": [
      "origin entropy: 1.0000, feature count: 2\n",
      "if choose column index 0 as feautre, new entropy is: 0.0000. gain is: 1.0000\n",
      "if choose column index 1 as feautre, new entropy is: 1.0000. gain is: 0.0000\n",
      "optimized feature is column 0, info gain is 1.0000\n"
     ]
    }
   ],
   "source": [
    "feat = choose_feature([\n",
    "    [1,2,'yes'],\n",
    "    [2,1,'no'],\n",
    "    [1,1,'yes'],\n",
    "    [2,2,'no']\n",
    "])\n",
    "\n",
    "print('optimized feature is column %d, info gain is %.4f' % feat)"
   ]
  }
 ],
 "metadata": {
  "kernelspec": {
   "display_name": "Python 3 (ipykernel)",
   "language": "python",
   "name": "python3"
  },
  "language_info": {
   "codemirror_mode": {
    "name": "ipython",
    "version": 3
   },
   "file_extension": ".py",
   "mimetype": "text/x-python",
   "name": "python",
   "nbconvert_exporter": "python",
   "pygments_lexer": "ipython3",
   "version": "3.8.13"
  }
 },
 "nbformat": 4,
 "nbformat_minor": 5
}
