{
 "cells": [
  {
   "cell_type": "code",
   "execution_count": 186,
   "id": "3475d501",
   "metadata": {},
   "outputs": [],
   "source": [
    "from numpy import *\n",
    "from matplotlib import pyplot as plt\n",
    "import operator"
   ]
  },
  {
   "cell_type": "markdown",
   "id": "672bf1b0",
   "metadata": {},
   "source": [
    "## prepare data set and make plot\n",
    "\n",
    "run code below."
   ]
  },
  {
   "cell_type": "code",
   "execution_count": 215,
   "id": "24a155d3",
   "metadata": {},
   "outputs": [
    {
     "data": {
      "image/png": "[encoded data removed]",
      "text/plain": [
       "<Figure size 432x288 with 1 Axes>"
      ]
     },
     "metadata": {
      "needs_background": "light"
     },
     "output_type": "display_data"
    }
   ],
   "source": [
    "dset = array([\n",
    "    [1,1],\n",
    "    [1,1.1],\n",
    "    [0,0],\n",
    "    [0,0.1],\n",
    "    [0.3,0.6],\n",
    "    [0.5,0.7],\n",
    "    [0.2,0.1],\n",
    "    [0.6,0.3],\n",
    "    [0.9,0.1],\n",
    "    [0.3,0.3],\n",
    "])\n",
    "labels = ['A', 'A', 'B', 'B', 'B', 'A', 'B', 'A', 'A', 'B']\n",
    "dset\n",
    "\n",
    "plt.title('data set')\n",
    "plt.xlabel('x axis')\n",
    "plt.ylabel('y axis')\n",
    "xaxis = dset[:,0]\n",
    "yasix = dset[:,1]\n",
    "plt.plot(xaxis, yasix, 'r.')\n",
    "for i in range(len(xaxis)):\n",
    "    plt.text(xaxis[i], yasix[i], labels[i])\n",
    "plt.show()\n"
   ]
  },
  {
   "cell_type": "markdown",
   "id": "59033e7f",
   "metadata": {},
   "source": [
    "## kNN algorithm"
   ]
  },
  {
   "cell_type": "markdown",
   "id": "98103493",
   "metadata": {},
   "source": [
    "### config kNN args"
   ]
  },
  {
   "cell_type": "code",
   "execution_count": 220,
   "id": "1fcb6f3a",
   "metadata": {},
   "outputs": [],
   "source": [
    "k=3  # numbers of nearest neighbor\n",
    "p = array([0.5, 0.8])   # sample for predicated"
   ]
  },
  {
   "cell_type": "code",
   "execution_count": 221,
   "id": "bad5c472",
   "metadata": {},
   "outputs": [
    {
     "name": "stdout",
     "output_type": "stream",
     "text": [
      "nearest neighbor set: [('A', 2), ('B', 1)]\n",
      "nearest neighbor label: A, count: 2\n"
     ]
    }
   ],
   "source": [
    "dist_list = []\n",
    "for i in range(len(dset)):\n",
    "    # 欧式距离公式\n",
    "    distance = sqrt(sum((dset[i]-p)**2))\n",
    "    dist_list.append([distance, labels[i]])\n",
    "\n",
    "dist_list = array(dist_list)\n",
    "sorted_dist_list = dist_list[dist_list[:,0].argsort()]\n",
    "\n",
    "tmp = {}\n",
    "for i in range(k):\n",
    "    item = sorted_dist_list[i]\n",
    "    dis = item[0]\n",
    "    label = item[1]\n",
    "    tmp[label] = tmp.get(label, 0) + 1\n",
    "\n",
    "sorted_kNN_set = sorted(tmp.items(), key=operator.itemgetter(1), reverse=True)\n",
    "\n",
    "print('nearest neighbor set:', sorted_kNN_set)\n",
    "print('nearest neighbor label: %s, count: %d' % sorted_kNN_set[0])\n"
   ]
  },
  {
   "cell_type": "markdown",
   "id": "740c7c82",
   "metadata": {},
   "source": [
    "## Iris data"
   ]
  },
  {
   "cell_type": "code",
   "execution_count": 49,
   "id": "51e6c49f",
   "metadata": {},
   "outputs": [],
   "source": [
    "from pandas import read_csv"
   ]
  },
  {
   "cell_type": "code",
   "execution_count": 55,
   "id": "b3d51409",
   "metadata": {},
   "outputs": [],
   "source": [
    "iris_set = array(read_csv('./iris.data'))\n",
    "\n",
    "\n",
    "\n"
   ]
  }
 ],
 "metadata": {
  "kernelspec": {
   "display_name": "Python 3 (ipykernel)",
   "language": "python",
   "name": "python3"
  },
  "language_info": {
   "codemirror_mode": {
    "name": "ipython",
    "version": 3
   },
   "file_extension": ".py",
   "mimetype": "text/x-python",
   "name": "python",
   "nbconvert_exporter": "python",
   "pygments_lexer": "ipython3",
   "version": "3.8.13"
  }
 },
 "nbformat": 4,
 "nbformat_minor": 5
}
