{
 "cells": [
  {
   "cell_type": "code",
   "execution_count": 186,
   "id": "3475d501",
   "metadata": {},
   "outputs": [],
   "source": [
    "from numpy import *\n",
    "from matplotlib import pyplot as plt\n",
    "import operator"
   ]
  },
  {
   "cell_type": "markdown",
   "id": "672bf1b0",
   "metadata": {},
   "source": [
    "## prepare data set and make plot\n",
    "\n",
    "run code below."
   ]
  },
  {
   "cell_type": "code",
   "execution_count": 215,
   "id": "24a155d3",
   "metadata": {},
   "outputs": [
    {
     "data": {
      "image/png": "[encoded data removed]",
      "text/plain": [
       "<Figure size 432x288 with 1 Axes>"
      ]
     },
     "metadata": {
      "needs_background": "light"
     },
     "output_type": "display_data"
    }
   ],
   "source": [
    "dset = array([\n",
    "    [1,1],\n",
    "    [1,1.1],\n",
    "    [0,0],\n",
    "    [0,0.1],\n",
    "    [0.3,0.6],\n",
    "    [0.5,0.7],\n",
    "    [0.2,0.1],\n",
    "    [0.6,0.3],\n",
    "    [0.9,0.1],\n",
    "    [0.3,0.3],\n",
    "])\n",
    "labels = ['A', 'A', 'B', 'B', 'B', 'A', 'B', 'A', 'A', 'B']\n",
    "dset\n",
    "\n",
    "plt.title('data set')\n",
    "plt.xlabel('x axis')\n",
    "plt.ylabel('y axis')\n",
    "xaxis = dset[:,0]\n",
    "yasix = dset[:,1]\n",
    "plt.plot(xaxis, yasix, 'r.')\n",
    "for i in range(len(xaxis)):\n",
    "    plt.text(xaxis[i], yasix[i], labels[i])\n",
    "plt.show()\n"
   ]
  },
  {
   "cell_type": "code",
   "execution_count": 430,
   "id": "5eff2e12",
   "metadata": {},
   "outputs": [
    {
     "data": {
      "text/plain": [
       "'11MB'"
      ]
     },
     "execution_count": 430,
     "metadata": {},
     "output_type": "execute_result"
    }
   ],
   "source": [
    "'%dMB' % (50*10**4 * 11 * 2 / 10**6)"
   ]
  },
  {
   "cell_type": "markdown",
   "id": "59033e7f",
   "metadata": {},
   "source": [
    "## kNN algorithm"
   ]
  },
  {
   "cell_type": "markdown",
   "id": "98103493",
   "metadata": {},
   "source": [
    "### config kNN args"
   ]
  },
  {
   "cell_type": "code",
   "execution_count": 220,
   "id": "1fcb6f3a",
   "metadata": {},
   "outputs": [],
   "source": [
    "k=3  # numbers of nearest neighbor\n",
    "p = array([0.5, 0.8])   # sample for predicated"
   ]
  },
  {
   "cell_type": "code",
   "execution_count": 221,
   "id": "bad5c472",
   "metadata": {},
   "outputs": [
    {
     "name": "stdout",
     "output_type": "stream",
     "text": [
      "nearest neighbor set: [('A', 2), ('B', 1)]\n",
      "nearest neighbor label: A, count: 2\n"
     ]
    }
   ],
   "source": [
    "dist_list = []\n",
    "for i in range(len(dset)):\n",
    "    # 欧式距离公式\n",
    "    distance = sqrt(sum((dset[i]-p)**2))\n",
    "    dist_list.append([distance, labels[i]])\n",
    "\n",
    "dist_list = array(dist_list)\n",
    "sorted_dist_list = dist_list[dist_list[:,0].argsort()]\n",
    "\n",
    "tmp = {}\n",
    "for i in range(k):\n",
    "    item = sorted_dist_list[i]\n",
    "    dis = item[0]\n",
    "    label = item[1]\n",
    "    tmp[label] = tmp.get(label, 0) + 1\n",
    "\n",
    "sorted_kNN_set = sorted(tmp.items(), key=operator.itemgetter(1), reverse=True)\n",
    "\n",
    "print('nearest neighbor set:', sorted_kNN_set)\n",
    "print('nearest neighbor label: %s, count: %d' % sorted_kNN_set[0])\n"
   ]
  },
  {
   "cell_type": "markdown",
   "id": "740c7c82",
   "metadata": {},
   "source": [
    "## Iris data"
   ]
  },
  {
   "cell_type": "code",
   "execution_count": 49,
   "id": "51e6c49f",
   "metadata": {},
   "outputs": [],
   "source": [
    "from pandas import read_csv"
   ]
  },
  {
   "cell_type": "code",
   "execution_count": 55,
   "id": "b3d51409",
   "metadata": {},
   "outputs": [],
   "source": [
    "iris_set = array(read_csv('./iris.data'))\n",
    "\n",
    "\n",
    "\n"
   ]
  },
  {
   "cell_type": "markdown",
   "id": "46aa4971",
   "metadata": {},
   "source": [
    "## Digits recognize"
   ]
  },
  {
   "cell_type": "code",
   "execution_count": 298,
   "id": "0bd1f820",
   "metadata": {},
   "outputs": [],
   "source": [
    "import os"
   ]
  },
  {
   "cell_type": "markdown",
   "id": "d5e4ddfe",
   "metadata": {},
   "source": [
    "## function #img2vector()\n",
    "transfer digit txt img to vector"
   ]
  },
  {
   "cell_type": "code",
   "execution_count": 294,
   "id": "0a24dfab",
   "metadata": {},
   "outputs": [],
   "source": [
    "def img2vector(file):\n",
    "    vector = []\n",
    "    f = open(file)\n",
    "    for line in f.readlines():\n",
    "        for char in line:\n",
    "            if char == '1':\n",
    "                vector.append(1)\n",
    "            elif char == '0':\n",
    "                vector.append(0)\n",
    "    return vector"
   ]
  },
  {
   "cell_type": "code",
   "execution_count": 299,
   "id": "c5144e49",
   "metadata": {},
   "outputs": [],
   "source": [
    "def walk(folder):\n",
    "    for root, ds, fs in os.walk(folder):\n",
    "        for file in fs:\n",
    "            yield file"
   ]
  },
  {
   "cell_type": "markdown",
   "id": "2c3efc63",
   "metadata": {},
   "source": [
    "read training data from files and convert all to vectors"
   ]
  },
  {
   "cell_type": "code",
   "execution_count": 316,
   "id": "fad1d244",
   "metadata": {},
   "outputs": [],
   "source": [
    "folder = './dataset/digits/trainingDigits/'\n",
    "dset = []\n",
    "labels = []\n",
    "for file in walk(folder):\n",
    "    path = os.path.join(folder, file)\n",
    "    dset.append(array(img2vector(path)))\n",
    "    label = file.split('.')[0].split('_')[0]\n",
    "    labels.append(label)"
   ]
  },
  {
   "cell_type": "markdown",
   "id": "43e8d5e5",
   "metadata": {},
   "source": [
    "read test data from files and convert all to vectors"
   ]
  },
  {
   "cell_type": "code",
   "execution_count": 364,
   "id": "82d2f96c",
   "metadata": {},
   "outputs": [],
   "source": [
    "k=20\n",
    "test_folder = './dataset/digits/testDigits/'\n",
    "\n",
    "test_vectors = []\n",
    "test_labels = []\n",
    "for file in walk(test_folder):\n",
    "    test_vectors.append(img2vector(os.path.join(test_folder, file)))\n",
    "    label = file.split('.')[0].split('_')[0]\n",
    "    test_labels.append(label)"
   ]
  },
  {
   "cell_type": "markdown",
   "id": "bba2ef28",
   "metadata": {},
   "source": [
    "## 欧几里得距离公式\n",
    "\n",
    "点 A $(x_{11},x_{21},...x_{n1})$\n",
    "\n",
    "点 B $(x_{12},x_{22},...x_{n2})$\n",
    "\n",
    "$n$ 表示向量维度\n",
    "\n",
    "向量 A, B 的距离可表示为 $\\sqrt{\\sum_{i=0}^{n} {(x_{i2}-x_{i1})^2}}$"
   ]
  },
  {
   "cell_type": "code",
   "execution_count": 403,
   "id": "4c6e06ec",
   "metadata": {},
   "outputs": [],
   "source": [
    "def kNN_digit_recognize(dset, labels, test_vector):\n",
    "    dist_list = []\n",
    "    for i in range(len(dset)):\n",
    "        # 欧几里得距离公式\n",
    "        sample = dset[i]\n",
    "        distance = sqrt(sum((test_vector-sample)**2))\n",
    "        dist_list.append([distance, labels[i]])\n",
    "\n",
    "    dist_list = sorted(dist_list, key=operator.itemgetter(0))\n",
    "\n",
    "    kNN_set = {}\n",
    "    for item in array(dist_list)[:k, 1]:\n",
    "        kNN_set[item] = kNN_set.get(item, 0) + 1\n",
    "\n",
    "    return kNN_set"
   ]
  },
  {
   "cell_type": "code",
   "execution_count": null,
   "id": "c121b890",
   "metadata": {},
   "outputs": [],
   "source": [
    "total = 100  #  要测试的数据量\n",
    "err_count = 0  # 识别错误的数量（计算错误率）"
   ]
  },
  {
   "cell_type": "markdown",
   "id": "bfc2bba9",
   "metadata": {},
   "source": [
    "foreach test dataset and calculate error rate."
   ]
  },
  {
   "cell_type": "code",
   "execution_count": 424,
   "id": "a758c0d5",
   "metadata": {},
   "outputs": [
    {
     "name": "stdout",
     "output_type": "stream",
     "text": [
      "test label: 9, recognize label: 9, match counts: 15\n",
      "test label: 5, recognize label: 5, match counts: 20\n",
      "test label: 0, recognize label: 0, match counts: 20\n",
      "test label: 3, recognize label: 3, match counts: 20\n",
      "test label: 7, recognize label: 7, match counts: 20\n",
      "test label: 1, recognize label: 1, match counts: 19\n",
      "test label: 4, recognize label: 4, match counts: 20\n",
      "test label: 4, recognize label: 4, match counts: 20\n",
      "test label: 6, recognize label: 6, match counts: 20\n",
      "test label: 8, recognize label: 8, match counts: 20\n",
      "test label: 5, recognize label: 5, match counts: 20\n",
      "test label: 2, recognize label: 2, match counts: 20\n",
      "test label: 6, recognize label: 6, match counts: 20\n",
      "test label: 6, recognize label: 6, match counts: 20\n",
      "test label: 0, recognize label: 0, match counts: 20\n",
      "test label: 0, recognize label: 0, match counts: 20\n",
      "test label: 8, recognize label: 8, match counts: 14\n",
      "test label: 0, recognize label: 0, match counts: 20\n",
      "test label: 9, recognize label: 9, match counts: 19\n",
      "test label: 3, recognize label: 3, match counts: 19\n",
      "test label: 1, recognize label: 1, match counts: 20\n",
      "test label: 4, recognize label: 4, match counts: 20\n",
      "test label: 7, recognize label: 7, match counts: 20\n",
      "test label: 7, recognize label: 7, match counts: 20\n",
      "test label: 3, recognize label: 3, match counts: 18\n",
      "test label: 2, recognize label: 2, match counts: 20\n",
      "test label: 9, recognize label: 9, match counts: 14\n",
      "test label: 5, recognize label: 5, match counts: 20\n",
      "test label: 1, recognize label: 1, match counts: 20\n",
      "test label: 2, recognize label: 2, match counts: 20\n",
      "test label: 5, recognize label: 5, match counts: 17\n",
      "test label: 0, recognize label: 0, match counts: 20\n",
      "test label: 4, recognize label: 4, match counts: 20\n",
      "test label: 5, recognize label: 5, match counts: 16\n",
      "test label: 7, recognize label: 7, match counts: 20\n",
      "test label: 5, recognize label: 5, match counts: 20\n",
      "test label: 6, recognize label: 6, match counts: 20\n",
      "test label: 1, recognize label: 1, match counts: 20\n",
      "test label: 2, recognize label: 2, match counts: 20\n",
      "test label: 6, recognize label: 6, match counts: 20\n",
      "test label: 0, recognize label: 0, match counts: 20\n",
      "test label: 3, recognize label: 3, match counts: 20\n",
      "test label: 0, recognize label: 0, match counts: 20\n",
      "test label: 6, recognize label: 6, match counts: 20\n",
      "test label: 4, recognize label: 4, match counts: 20\n",
      "test label: 2, recognize label: 2, match counts: 20\n",
      "test label: 9, recognize label: 9, match counts: 16\n",
      "test label: 2, recognize label: 2, match counts: 20\n",
      "test label: 5, recognize label: 5, match counts: 16\n",
      "test label: 7, recognize label: 7, match counts: 20\n",
      "test label: 5, recognize label: 5, match counts: 18\n",
      "test label: 3, recognize label: 3, match counts: 18\n",
      "test label: 1, recognize label: 1, match counts: 19\n",
      "test label: 9, recognize label: 9, match counts: 15\n",
      "test label: 3, recognize label: 3, match counts: 20\n",
      "test label: 9, recognize label: 9, match counts: 15\n",
      "test label: 9, recognize label: 9, match counts: 15\n",
      "test label: 3, recognize label: 3, match counts: 20\n",
      "test label: 6, recognize label: 6, match counts: 20\n",
      "test label: 7, recognize label: 7, match counts: 20\n",
      "test label: 0, recognize label: 0, match counts: 20\n",
      "test label: 5, recognize label: 5, match counts: 18\n",
      "test label: 7, recognize label: 7, match counts: 20\n",
      "test label: 1, recognize label: 1, match counts: 20\n",
      "test label: 0, recognize label: 0, match counts: 20\n",
      "test label: 8, recognize label: 8, match counts: 16\n",
      "test label: 2, recognize label: 2, match counts: 18\n",
      "test label: 2, recognize label: 2, match counts: 20\n",
      "test label: 0, recognize label: 0, match counts: 20\n",
      "error)test label: 1, recognize label: 7, match counts: 11\n",
      "test label: 2, recognize label: 2, match counts: 9\n",
      "test label: 6, recognize label: 6, match counts: 20\n",
      "test label: 7, recognize label: 7, match counts: 20\n",
      "test label: 1, recognize label: 1, match counts: 19\n",
      "test label: 1, recognize label: 1, match counts: 20\n",
      "test label: 7, recognize label: 7, match counts: 20\n",
      "test label: 9, recognize label: 9, match counts: 12\n",
      "test label: 6, recognize label: 6, match counts: 20\n",
      "test label: 2, recognize label: 2, match counts: 19\n",
      "test label: 7, recognize label: 7, match counts: 20\n",
      "test label: 3, recognize label: 3, match counts: 9\n",
      "test label: 6, recognize label: 6, match counts: 20\n",
      "test label: 8, recognize label: 8, match counts: 14\n",
      "test label: 3, recognize label: 3, match counts: 20\n",
      "test label: 9, recognize label: 9, match counts: 18\n",
      "test label: 7, recognize label: 7, match counts: 20\n",
      "test label: 2, recognize label: 2, match counts: 20\n",
      "test label: 7, recognize label: 7, match counts: 20\n",
      "test label: 6, recognize label: 6, match counts: 20\n",
      "test label: 5, recognize label: 5, match counts: 20\n",
      "test label: 3, recognize label: 3, match counts: 20\n",
      "test label: 8, recognize label: 8, match counts: 20\n",
      "test label: 3, recognize label: 3, match counts: 20\n",
      "test label: 9, recognize label: 9, match counts: 18\n",
      "test label: 7, recognize label: 7, match counts: 20\n",
      "test label: 9, recognize label: 9, match counts: 17\n",
      "test label: 2, recognize label: 2, match counts: 20\n",
      "test label: 5, recognize label: 5, match counts: 20\n",
      "test label: 7, recognize label: 7, match counts: 20\n",
      "test label: 6, recognize label: 6, match counts: 20\n",
      "error rate: 0.0100\n"
     ]
    }
   ],
   "source": [
    "for i in range(total):\n",
    "    idx = int(floor(random.rand() * len(test_vectors)))\n",
    "    test_vector = test_vectors[idx]\n",
    "    test_label = test_labels[idx]\n",
    "    tmp = kNN_digit_recognize(dset, labels, test_vector)\n",
    "    tmp = sorted(tmp.items(), key=operator.itemgetter(1), reverse=True)[0]\n",
    "    label = tmp[0]\n",
    "    neighbors = tmp[1]\n",
    "    iserror = False\n",
    "    if label != test_label:\n",
    "        err_count = err_count + 1\n",
    "        iserror = True\n",
    "    print('%stest label: %s, recognize label: %s, match counts: %d' % ('error)' if iserror else '', test_label, label, neighbors))\n",
    "    \n",
    "print('error rate: %.4f' % (err_count / total))"
   ]
  }
 ],
 "metadata": {
  "kernelspec": {
   "display_name": "Python 3 (ipykernel)",
   "language": "python",
   "name": "python3"
  },
  "language_info": {
   "codemirror_mode": {
    "name": "ipython",
    "version": 3
   },
   "file_extension": ".py",
   "mimetype": "text/x-python",
   "name": "python",
   "nbconvert_exporter": "python",
   "pygments_lexer": "ipython3",
   "version": "3.8.13"
  }
 },
 "nbformat": 4,
 "nbformat_minor": 5
}
