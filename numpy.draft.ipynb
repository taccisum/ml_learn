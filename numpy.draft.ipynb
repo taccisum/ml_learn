{
 "cells": [
  {
   "cell_type": "code",
   "execution_count": 222,
   "metadata": {},
   "outputs": [],
   "source": [
    "import numpy as np\n",
    "from numpy import *\n",
    "from matplotlib import pyplot as plt\n"
   ]
  },
  {
   "cell_type": "code",
   "execution_count": 36,
   "metadata": {},
   "outputs": [
    {
     "name": "stdout",
     "output_type": "stream",
     "text": [
      "[3 3 3]\n",
      "32\n",
      "[-3  6 -3]\n"
     ]
    }
   ],
   "source": [
    "A = array([1,2,3])\n",
    "B = array([4,5,6])\n",
    "C = B-A\n",
    "print(C)\n",
    "\n",
    "print(np.dot(A, B))\n",
    "print(np.cross(A, B))\n"
   ]
  },
  {
   "cell_type": "code",
   "execution_count": null,
   "metadata": {},
   "outputs": [],
   "source": [
    "print(np.sin(pi/2))"
   ]
  },
  {
   "cell_type": "code",
   "execution_count": null,
   "metadata": {},
   "outputs": [],
   "source": [
    "s = array(['a', 'b', 'c'])\n",
    "print(s[2:])"
   ]
  },
  {
   "cell_type": "code",
   "execution_count": 52,
   "metadata": {},
   "outputs": [
    {
     "data": {
      "image/png": "[encoded data removed]",
      "text/plain": [
       "<Figure size 432x288 with 1 Axes>"
      ]
     },
     "metadata": {
      "needs_background": "light"
     },
     "output_type": "display_data"
    }
   ],
   "source": [
    "x = np.arange(1,100)\n",
    "# y =  2  * x**2 +  5\n",
    "y = np.sin(x/16%2 * pi)\n",
    "plt.title(\"Matplotlib Demo\") \n",
    "plt.xlabel(\"x axis\") \n",
    "plt.ylabel(\"y axis\") \n",
    "plt.plot(x,y) \n",
    "plt.show()"
   ]
  },
  {
   "cell_type": "code",
   "execution_count": 210,
   "metadata": {},
   "outputs": [
    {
     "name": "stdout",
     "output_type": "stream",
     "text": [
      "0\n",
      "1\n",
      "0.5002\n",
      "0.5002\n",
      "0.49999995999999847\n",
      "0.24999996000000005\n",
      "0.00000\n"
     ]
    }
   ],
   "source": [
    "res = []\n",
    "for i in range(10000):\n",
    "    res.append(1 if np.random.rand() > 0.5 else 0)\n",
    "\n",
    "print(np.amin(res))\n",
    "print(np.amax(res))\n",
    "print(np.mean(res))\n",
    "print(np.average(res))\n",
    "print(np.std(res))\n",
    "print(np.var(res))\n",
    "\n",
    "# 均差（无法看出数据波动情况）\n",
    "avg = np.average(res)\n",
    "print('%.5f' % np.sum(res - avg))\n"
   ]
  },
  {
   "cell_type": "code",
   "execution_count": 227,
   "metadata": {},
   "outputs": [
    {
     "data": {
      "text/plain": [
       "matrix([[ 1.00000000e+00,  0.00000000e+00,  0.00000000e+00,\n",
       "          0.00000000e+00],\n",
       "        [-2.22044605e-16,  1.00000000e+00,  0.00000000e+00,\n",
       "          1.11022302e-16],\n",
       "        [ 2.22044605e-16,  2.22044605e-16,  1.00000000e+00,\n",
       "         -1.11022302e-16],\n",
       "        [ 0.00000000e+00,  8.88178420e-16, -8.88178420e-16,\n",
       "          1.00000000e+00]])"
      ]
     },
     "execution_count": 227,
     "metadata": {},
     "output_type": "execute_result"
    }
   ],
   "source": [
    "mat1 = mat(random.rand(4,4))\n",
    "imat1 = mat1.I\n",
    "\n",
    "mat1 * imat1"
   ]
  },
  {
   "cell_type": "code",
   "execution_count": 229,
   "metadata": {},
   "outputs": [
    {
     "data": {
      "text/plain": [
       "array([[1., 0., 0., 0.],\n",
       "       [0., 1., 0., 0.],\n",
       "       [0., 0., 1., 0.],\n",
       "       [0., 0., 0., 1.]])"
      ]
     },
     "execution_count": 229,
     "metadata": {},
     "output_type": "execute_result"
    }
   ],
   "source": [
    "eye(4)"
   ]
  }
 ],
 "metadata": {
  "interpreter": {
   "hash": "190fa6c49c3b92352e50f60450dec405cab799b1edb08713d79f884d830b3b53"
  },
  "kernelspec": {
   "display_name": "Python 3 (ipykernel)",
   "language": "python",
   "name": "python3"
  },
  "language_info": {
   "codemirror_mode": {
    "name": "ipython",
    "version": 3
   },
   "file_extension": ".py",
   "mimetype": "text/x-python",
   "name": "python",
   "nbconvert_exporter": "python",
   "pygments_lexer": "ipython3",
   "version": "3.8.13"
  }
 },
 "nbformat": 4,
 "nbformat_minor": 2
}
