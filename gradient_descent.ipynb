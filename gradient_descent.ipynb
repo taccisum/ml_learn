{
 "cells": [
  {
   "cell_type": "code",
   "execution_count": 9,
   "id": "36786555",
   "metadata": {},
   "outputs": [],
   "source": [
    "from numpy import *\n",
    "from matplotlib.pyplot import *"
   ]
  },
  {
   "cell_type": "markdown",
   "id": "c4e5dc62",
   "metadata": {},
   "source": [
    "given data set.\n",
    "\n",
    "$f(x)=5+3x$"
   ]
  },
  {
   "cell_type": "code",
   "execution_count": 13,
   "id": "0d900241",
   "metadata": {},
   "outputs": [],
   "source": [
    "dset = array([\n",
    "    [1, 8],\n",
    "    [2, 11],\n",
    "    [3, 14]\n",
    "])"
   ]
  },
  {
   "cell_type": "code",
   "execution_count": 16,
   "id": "14e674b8",
   "metadata": {},
   "outputs": [
    {
     "data": {
      "image/png": "[encoded data removed]",
      "text/plain": [
       "<Figure size 432x288 with 1 Axes>"
      ]
     },
     "metadata": {
      "needs_background": "light"
     },
     "output_type": "display_data"
    }
   ],
   "source": [
    "plot(dset[:,0], dset[:,1], '.')\n",
    "show()"
   ]
  },
  {
   "cell_type": "code",
   "execution_count": 34,
   "id": "25d309ed",
   "metadata": {},
   "outputs": [],
   "source": [
    "w0 = 5\n",
    "w1 = 3"
   ]
  },
  {
   "cell_type": "markdown",
   "id": "b9267244",
   "metadata": {},
   "source": [
    "Try change $w_0, w_1$ and run the code below. Then observe change of hyperthesis function result and cost function result"
   ]
  },
  {
   "cell_type": "code",
   "execution_count": 995,
   "id": "c204959a",
   "metadata": {},
   "outputs": [
    {
     "name": "stdout",
     "output_type": "stream",
     "text": [
      "hyperthesis [ 7.95384401 10.99009497 14.02634592] cost func 0.0029225922702317587\n"
     ]
    }
   ],
   "source": [
    "x = dset[:,0]\n",
    "y = dset[:,1]\n",
    "h = w0 + w1 * x \n",
    "J = sum((h - y)**2)\n",
    "print('hyperthesis', h, 'cost func', J)"
   ]
  },
  {
   "cell_type": "markdown",
   "id": "d8831143",
   "metadata": {},
   "source": [
    "## gradient descent"
   ]
  },
  {
   "cell_type": "code",
   "execution_count": 1630,
   "id": "0cf98c37",
   "metadata": {},
   "outputs": [],
   "source": [
    "# assign initialized val for w0 and w1, can be any number\n",
    "w0 = 1\n",
    "w1 = 1"
   ]
  },
  {
   "cell_type": "markdown",
   "id": "c01ca8f7",
   "metadata": {},
   "source": [
    "As the gradient descent, $w_0$ and $w_1$ will convege to optimum\n",
    "\n",
    "$w_0 := w_0 - \\alpha · \\frac \\partial {\\partial \\theta_0} J(\\theta_0,\\theta_1) = w_0 - \\alpha \\sum {h_\\theta(x^{(i)}) - y^{(i)}}$\n",
    "\n",
    "$w_1 := w_1 - \\alpha · \\frac \\partial {\\partial \\theta_1} J(\\theta_0,\\theta_1) = w_1 - \\alpha \\sum {[h_\\theta(x^{(i)}) - y^{(i)}] · x^{(i)}}$\n",
    "\n",
    "The value of $w_0$ and $w_1$ will be updated after run the code below per times"
   ]
  },
  {
   "cell_type": "code",
   "execution_count": 1666,
   "id": "3486ed7c",
   "metadata": {},
   "outputs": [
    {
     "name": "stdout",
     "output_type": "stream",
     "text": [
      "4.303097956502204 3.3065669197890615\n"
     ]
    }
   ],
   "source": [
    "alpha = 0.1  # learning rate\n",
    "h = w0 + w1 * x  # hyperthesis function\n",
    "nw0 = w0 - alpha * sum(h-y)  # derivative(J, w0)\n",
    "nw1 = w1 - alpha * sum((h-y)*x)  # derivative(J, w1)\n",
    "w0 = nw0\n",
    "w1 = nw1\n",
    "print(w0, w1)"
   ]
  }
 ],
 "metadata": {
  "kernelspec": {
   "display_name": "Python 3 (ipykernel)",
   "language": "python",
   "name": "python3"
  },
  "language_info": {
   "codemirror_mode": {
    "name": "ipython",
    "version": 3
   },
   "file_extension": ".py",
   "mimetype": "text/x-python",
   "name": "python",
   "nbconvert_exporter": "python",
   "pygments_lexer": "ipython3",
   "version": "3.8.13"
  }
 },
 "nbformat": 4,
 "nbformat_minor": 5
}
